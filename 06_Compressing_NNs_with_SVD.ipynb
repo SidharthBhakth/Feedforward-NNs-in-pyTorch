{
  "nbformat": 4,
  "nbformat_minor": 0,
  "metadata": {
    "colab": {
      "name": "06-Compressing NNs with SVD.ipynb",
      "provenance": [],
      "collapsed_sections": [],
      "authorship_tag": "ABX9TyNdlvvAPHjphcWXBlTJQwJ+",
      "include_colab_link": true
    },
    "kernelspec": {
      "name": "python3",
      "display_name": "Python 3"
    }
  },
  "cells": [
    {
      "cell_type": "markdown",
      "metadata": {
        "id": "view-in-github",
        "colab_type": "text"
      },
      "source": [
        "<a href=\"https://colab.research.google.com/github/SidharthBhakth/Feedforward-NNs-in-pyTorch/blob/main/06_Compressing_NNs_with_SVD.ipynb\" target=\"_parent\"><img src=\"https://colab.research.google.com/assets/colab-badge.svg\" alt=\"Open In Colab\"/></a>"
      ]
    },
    {
      "cell_type": "markdown",
      "metadata": {
        "id": "W-i0nuYYD-SD"
      },
      "source": [
        "# **Compressing NNs with SVD**"
      ]
    },
    {
      "cell_type": "markdown",
      "metadata": {
        "id": "_fDOF3vc_SGh"
      },
      "source": [
        "# **Problem 1**"
      ]
    },
    {
      "cell_type": "code",
      "metadata": {
        "colab": {
          "base_uri": "https://localhost:8080/"
        },
        "id": "m8r22m1kMaV1",
        "outputId": "7ebaffb6-dab3-4926-becd-f90923ce528c"
      },
      "source": [
        "# Import libraries\n",
        "\n",
        "import numpy as np\n",
        "\n",
        "import torch\n",
        "from torch import nn, optim\n",
        "import torch.nn.functional as F\n",
        "import torchvision\n",
        "import torchvision.transforms as transforms\n",
        "from torchvision.datasets import MNIST\n",
        "from torch.utils.data import TensorDataset, DataLoader\n",
        "\n",
        "import matplotlib.pyplot as plt\n",
        "plt.style.use('ggplot')\n",
        "\n",
        "torch.manual_seed(0)"
      ],
      "execution_count": null,
      "outputs": [
        {
          "output_type": "execute_result",
          "data": {
            "text/plain": [
              "<torch._C.Generator at 0x7f7d7d372570>"
            ]
          },
          "metadata": {
            "tags": []
          },
          "execution_count": 1
        }
      ]
    },
    {
      "cell_type": "code",
      "metadata": {
        "colab": {
          "base_uri": "https://localhost:8080/"
        },
        "id": "Rp0voOnw4UcC",
        "outputId": "8782ab19-5141-4954-da5e-c503fb72c478"
      },
      "source": [
        "# Check if GPU is available\n",
        "print(torch.cuda.is_available())\n",
        "\n",
        "# Set device to GPU\n",
        "device = torch.device('cuda' if torch.cuda.is_available() else 'cpu')\n",
        "print(device)"
      ],
      "execution_count": null,
      "outputs": [
        {
          "output_type": "stream",
          "text": [
            "True\n",
            "cuda\n"
          ],
          "name": "stdout"
        }
      ]
    },
    {
      "cell_type": "code",
      "metadata": {
        "id": "VRQQe-OGM0vr"
      },
      "source": [
        "# Load MNIST data\n",
        "\n",
        "# Train data\n",
        "mnist_train = MNIST('mnist',\n",
        "                    train=True,\n",
        "                    download=True,\n",
        "                    transform=transforms.Compose([transforms.ToTensor(),\n",
        "                                                  transforms.Normalize((0.1307,), (0.3081,))]))\n",
        "\n",
        "\n",
        "X_tr = (mnist_train.data).float().to(device)\n",
        "Y_tr = (mnist_train.targets).long().to(device)\n",
        "train_loader = DataLoader(TensorDataset(X_tr, Y_tr), batch_size = 500, shuffle = True)\n",
        "\n",
        "# Test data\n",
        "mnist_test = MNIST('mnist',\n",
        "                    train=False,\n",
        "                    download=True,\n",
        "                    transform=transforms.Compose([transforms.ToTensor(),\n",
        "                                                  transforms.Normalize((0.1307,), (0.3081,))]))\n",
        "\n",
        "X_te = (mnist_test.data).float().to(device)\n",
        "Y_te = (mnist_test.targets).long().to(device)\n",
        "test_loader = DataLoader(TensorDataset(X_te, Y_te), batch_size = 500, shuffle = True)"
      ],
      "execution_count": null,
      "outputs": []
    },
    {
      "cell_type": "code",
      "metadata": {
        "colab": {
          "base_uri": "https://localhost:8080/"
        },
        "id": "QXbPzWPvN_DU",
        "outputId": "74148159-508f-47fb-b253-74e9a24ec8d2"
      },
      "source": [
        "# Define a neural network architecture with 5 hidden layers of 1024 neurons per layer\n",
        "\n",
        "class BaselineNN(nn.Module):\n",
        "  def __init__(self):\n",
        "    super(BaselineNN, self).__init__()\n",
        "\n",
        "    self.fc1 = nn.Linear(784, 1024)\n",
        "    self.fc2 = nn.Linear(1024, 1024)\n",
        "    self.fc3 = nn.Linear(1024, 1024)\n",
        "    self.fc4 = nn.Linear(1024, 1024)\n",
        "    self.fc5 = nn.Linear(1024, 1024)\n",
        "    self.fc6 = nn.Linear(1024, 10)\n",
        "  \n",
        "  def forward(self, x):\n",
        "    x = x.view(-1, 28 * 28)\n",
        "    x = F.relu(self.fc1(x))\n",
        "    x = F.relu(self.fc2(x))\n",
        "    x = F.relu(self.fc3(x))\n",
        "    x = F.relu(self.fc4(x))\n",
        "    x = F.relu(self.fc5(x))\n",
        "    x = F.log_softmax(self.fc6(x), dim = 1)\n",
        "    \n",
        "    return x\n",
        "\n",
        "# def init_xavier(m):\n",
        "#     if type(m) == nn.Linear:\n",
        "#         nn.init.xavier_normal_(m.weight)\n",
        "#         m.bias.data.fill_(0.01)\n",
        "\n",
        "# Initilize NN class\n",
        "NN = BaselineNN()\n",
        "NN.to(device)"
      ],
      "execution_count": null,
      "outputs": [
        {
          "output_type": "execute_result",
          "data": {
            "text/plain": [
              "BaselineNN(\n",
              "  (fc1): Linear(in_features=784, out_features=1024, bias=True)\n",
              "  (fc2): Linear(in_features=1024, out_features=1024, bias=True)\n",
              "  (fc3): Linear(in_features=1024, out_features=1024, bias=True)\n",
              "  (fc4): Linear(in_features=1024, out_features=1024, bias=True)\n",
              "  (fc5): Linear(in_features=1024, out_features=1024, bias=True)\n",
              "  (fc6): Linear(in_features=1024, out_features=10, bias=True)\n",
              ")"
            ]
          },
          "metadata": {
            "tags": []
          },
          "execution_count": 4
        }
      ]
    },
    {
      "cell_type": "code",
      "metadata": {
        "id": "9AdZiP055YLR"
      },
      "source": [
        "def train(model = NN, lr = 0.001, n_epochs = 50, plot = True):\n",
        "\n",
        "    # hyperparameters\n",
        "    criterion = nn.CrossEntropyLoss()\n",
        "    optimizer = optim.Adam(model.parameters(), lr)\n",
        "\n",
        "    train_loss, train_accuracy = [], []\n",
        "\n",
        "    for epoch in range(1, n_epochs+1):\n",
        "\n",
        "        running_loss, running_acc = 0, 0\n",
        "\n",
        "        # Train\n",
        "        model.train()\n",
        "        for X_tr, Y_tr in train_loader:\n",
        "            optimizer.zero_grad()                                               # Set the parameter gradients to zero\n",
        "            Y_pred = model(X_tr)                                                # Forward pass to predict\n",
        "            loss = criterion(Y_pred, Y_tr)                                      # Compute loss on train data\n",
        "            running_loss += loss.item()\n",
        "            loss.backward()                                                     # Backpropagation\n",
        "            optimizer.step()                                                    # Optimization\n",
        "\n",
        "            Y_pred = torch.argmax(Y_pred, dim = 1)                              # For each 10-D output, find the dim with the maximum probability\n",
        "            accuracy = 100 * (sum(Y_pred == Y_tr).item() / len(Y_tr))           # Compute accuracy on train data\n",
        "            running_acc += accuracy\n",
        "        \n",
        "        # Keep track of train loss and accuracy for each epoch\n",
        "        train_loss.append(running_loss/len(train_loader))\n",
        "        train_accuracy.append(running_acc/len(train_loader))\n",
        "    \n",
        "        if epoch%10 == 0:\n",
        "            print(f\"Epoch {epoch:2} | train loss: {train_loss[-1]:.4f}, train accuracy: {train_accuracy[-1]:.2f}%\")\n",
        "    \n",
        "    if plot:\n",
        "        print(\"\\n\")\n",
        "        fig, ax = plt.subplots(1, 2, figsize = (20,6))\n",
        "\n",
        "        ax[0].plot(train_loss)\n",
        "        ax[0].set_ylabel('Loss')\n",
        "        ax[0].set_xlabel('Epochs')\n",
        "        ax[0].set_title(\"Train Loss\")\n",
        "\n",
        "        ax[1].plot(train_accuracy)\n",
        "        ax[1].set_ylabel('Accuracy')\n",
        "        ax[1].set_xlabel('Epochs')\n",
        "        ax[1].set_title(\"Train Accuracy\");"
      ],
      "execution_count": null,
      "outputs": []
    },
    {
      "cell_type": "code",
      "metadata": {
        "colab": {
          "base_uri": "https://localhost:8080/",
          "height": 526
        },
        "id": "Z_PYpbD8BscM",
        "outputId": "8934f36d-f468-4595-deb4-d65c6692aa83"
      },
      "source": [
        "train(model = NN,\n",
        "      lr = 0.001,\n",
        "      n_epochs = 50)"
      ],
      "execution_count": null,
      "outputs": [
        {
          "output_type": "stream",
          "text": [
            "Epoch 10 | train loss: 0.0255, train accuracy: 99.26%\n",
            "Epoch 20 | train loss: 0.0140, train accuracy: 99.60%\n",
            "Epoch 30 | train loss: 0.0123, train accuracy: 99.73%\n",
            "Epoch 40 | train loss: 0.0068, train accuracy: 99.83%\n",
            "Epoch 50 | train loss: 0.0132, train accuracy: 99.73%\n",
            "\n",
            "\n"
          ],
          "name": "stdout"
        },
        {
          "output_type": "display_data",
          "data": {
            "image/png": "[encoded data removed]",
            "text/plain": [
              "<Figure size 1440x432 with 2 Axes>"
            ]
          },
          "metadata": {
            "tags": [],
            "needs_background": "light"
          }
        }
      ]
    },
    {
      "cell_type": "code",
      "metadata": {
        "id": "rT1JG2MVCnKH"
      },
      "source": [
        "def test(model = NN):\n",
        "\n",
        "    test_accuracy = 0\n",
        "    \n",
        "    # Test\n",
        "    model.eval()\n",
        "    with torch.no_grad():\n",
        "        for X_te, Y_te in test_loader:\n",
        "            Y_pred = model(X_te)                                                # Forward pass to predict\n",
        "            Y_pred = torch.argmax(Y_pred, dim = 1)                              # For each 10-D output, find the dim with the maximum probability\n",
        "            accuracy = 100 * (sum(Y_pred == Y_te).item() / len(Y_te))           # Compute accuracy on test data\n",
        "            test_accuracy += accuracy\n",
        "    \n",
        "    test_accuracy = test_accuracy/len(test_loader)\n",
        "    \n",
        "    print(f\"Test accuracy: {test_accuracy:.2f}%\")\n",
        "\n",
        "    return test_accuracy"
      ],
      "execution_count": null,
      "outputs": []
    },
    {
      "cell_type": "code",
      "metadata": {
        "colab": {
          "base_uri": "https://localhost:8080/"
        },
        "id": "-oje06huCnD0",
        "outputId": "84c7593e-fe08-4160-fa76-e6e5cd5b3800"
      },
      "source": [
        "_ = test(model = NN)"
      ],
      "execution_count": null,
      "outputs": [
        {
          "output_type": "stream",
          "text": [
            "Test accuracy: 98.15%\n"
          ],
          "name": "stdout"
        }
      ]
    },
    {
      "cell_type": "code",
      "metadata": {
        "id": "G4DP_8SSjLmc"
      },
      "source": [
        "def compress(model = NN, singular_values = [10, 20, 50, 100, 200, 784]):\n",
        "\n",
        "    # Get model weight matrices\n",
        "    W1 = model.fc1.weight.data\n",
        "    W2 = model.fc2.weight.data\n",
        "    W3 = model.fc3.weight.data\n",
        "    W4 = model.fc4.weight.data\n",
        "    W5 = model.fc5.weight.data\n",
        "\n",
        "    # Apply SVD to compress weights\n",
        "    U1, S1, V1 = torch.svd(W1)\n",
        "    U2, S2, V2 = torch.svd(W2)\n",
        "    U3, S3, V3 = torch.svd(W3)\n",
        "    U4, S4, V4 = torch.svd(W4)\n",
        "    U5, S5, V5 = torch.svd(W5)\n",
        "\n",
        "    test_accuracy = dict()\n",
        "\n",
        "    for D in singular_values:\n",
        "\n",
        "        # Calculate approximate weights\n",
        "        W1_hat = U1[:,:D] @ torch.diag(S1[:D]) @ V1[:,:D].T\n",
        "        W2_hat = U2[:,:D] @ torch.diag(S2[:D]) @ V2[:,:D].T\n",
        "        W3_hat = U3[:,:D] @ torch.diag(S3[:D]) @ V3[:,:D].T\n",
        "        W4_hat = U4[:,:D] @ torch.diag(S4[:D]) @ V4[:,:D].T\n",
        "        W5_hat = U5[:,:D] @ torch.diag(S5[:D]) @ V5[:,:D].T\n",
        "\n",
        "        # Load model state dictionary and modify weights\n",
        "        state_dict = model.state_dict()\n",
        "\n",
        "        state_dict['fc1.weight'] = W1_hat\n",
        "        state_dict['fc2.weight'] = W2_hat\n",
        "        state_dict['fc3.weight'] = W3_hat\n",
        "        state_dict['fc4.weight'] = W4_hat\n",
        "        state_dict['fc5.weight'] = W5_hat\n",
        "\n",
        "        # Warmstart model with modified model weights\n",
        "        model.load_state_dict(state_dict, strict=False)\n",
        "\n",
        "        # Test\n",
        "        print(f\"Number of singular values used: {D}\")\n",
        "        test_accuracy[D] = test(model = NN)\n",
        "        print(\"\\n\")\n",
        "\n",
        "        del state_dict\n",
        "    \n",
        "    return test_accuracy"
      ],
      "execution_count": null,
      "outputs": []
    },
    {
      "cell_type": "code",
      "metadata": {
        "colab": {
          "base_uri": "https://localhost:8080/"
        },
        "id": "Ah3bkjqZ0cuZ",
        "outputId": "c4c30f76-1c75-4b2e-9da4-ed3babc727d4"
      },
      "source": [
        "test_accuracy = compress(model = NN,\n",
        "                         singular_values = [10, 20, 50, 100, 200, 784])"
      ],
      "execution_count": null,
      "outputs": [
        {
          "output_type": "stream",
          "text": [
            "Number of singular values used: 10\n",
            "Test accuracy: 50.60%\n",
            "\n",
            "\n",
            "Number of singular values used: 20\n",
            "Test accuracy: 87.40%\n",
            "\n",
            "\n",
            "Number of singular values used: 50\n",
            "Test accuracy: 97.87%\n",
            "\n",
            "\n",
            "Number of singular values used: 100\n",
            "Test accuracy: 98.25%\n",
            "\n",
            "\n",
            "Number of singular values used: 200\n",
            "Test accuracy: 98.28%\n",
            "\n",
            "\n",
            "Number of singular values used: 784\n",
            "Test accuracy: 98.16%\n",
            "\n",
            "\n"
          ],
          "name": "stdout"
        }
      ]
    },
    {
      "cell_type": "code",
      "metadata": {
        "colab": {
          "base_uri": "https://localhost:8080/",
          "height": 408
        },
        "id": "lsHVNgmR03uv",
        "outputId": "cea93b66-6d1a-458b-e14b-2105e6137f73"
      },
      "source": [
        "D, accuracy = zip(*test_accuracy.items())\n",
        "\n",
        "plt.figure(figsize = (10,6))\n",
        "plt.plot(D, accuracy)\n",
        "plt.ylabel('Accuracy')\n",
        "plt.xlabel('# of singular values used')\n",
        "plt.xticks(ticks = D)\n",
        "plt.title(\"Test Accuracy vs # of singular values used\");"
      ],
      "execution_count": null,
      "outputs": [
        {
          "output_type": "display_data",
          "data": {
            "image/png": "[encoded data removed]",
            "text/plain": [
              "<Figure size 720x432 with 1 Axes>"
            ]
          },
          "metadata": {
            "tags": [],
            "needs_background": "light"
          }
        }
      ]
    },
    {
      "cell_type": "markdown",
      "metadata": {
        "id": "tcf4srrF88NO"
      },
      "source": [
        "# **Problem 2**"
      ]
    },
    {
      "cell_type": "code",
      "metadata": {
        "id": "IvM11k-59BLy",
        "colab": {
          "base_uri": "https://localhost:8080/"
        },
        "outputId": "cd2ecd6a-8bdd-4d1e-ae20-e24a54e31acd"
      },
      "source": [
        "class FactorizedNN(nn.Module):\n",
        "    def __init__(self, input = 784, output = 10, hidden = 1024, D = 20):\n",
        "        super(FactorizedNN, self).__init__()\n",
        "\n",
        "        self.il = nn.Linear(input, D)\n",
        "\n",
        "        self.U1 = nn.Linear(D, hidden)\n",
        "        self.V1 = nn.Linear(hidden, D)\n",
        "\n",
        "        self.U2 = nn.Linear(D, hidden)\n",
        "        self.V2 = nn.Linear(hidden, D)\n",
        "\n",
        "        self.U3 = nn.Linear(D, hidden)\n",
        "        self.V3 = nn.Linear(hidden, D)\n",
        "\n",
        "        self.U4 = nn.Linear(D, hidden)\n",
        "        self.V4 = nn.Linear(hidden, D)\n",
        "\n",
        "        self.ol = nn.Linear(D, output)\n",
        "    \n",
        "    def forward(self, x):\n",
        "        x = x.view(-1, 28 * 28)\n",
        "        x = F.relu(self.il(x))\n",
        "        x = F.relu(self.U1(x))\n",
        "        x = F.relu(self.V1(x))\n",
        "        x = F.relu(self.U2(x))\n",
        "        x = F.relu(self.V2(x))\n",
        "        x = F.relu(self.U3(x))\n",
        "        x = F.relu(self.V3(x))\n",
        "        x = F.relu(self.U4(x))\n",
        "        x = F.relu(self.V4(x))\n",
        "        x = F.log_softmax(self.ol(x), dim = 1)\n",
        "    \n",
        "        return x\n",
        "\n",
        "# Initilize NN class\n",
        "f_NN = FactorizedNN()\n",
        "f_NN.to(device)"
      ],
      "execution_count": null,
      "outputs": [
        {
          "output_type": "execute_result",
          "data": {
            "text/plain": [
              "FactorizedNN(\n",
              "  (il): Linear(in_features=784, out_features=20, bias=True)\n",
              "  (U1): Linear(in_features=20, out_features=1024, bias=True)\n",
              "  (V1): Linear(in_features=1024, out_features=20, bias=True)\n",
              "  (U2): Linear(in_features=20, out_features=1024, bias=True)\n",
              "  (V2): Linear(in_features=1024, out_features=20, bias=True)\n",
              "  (U3): Linear(in_features=20, out_features=1024, bias=True)\n",
              "  (V3): Linear(in_features=1024, out_features=20, bias=True)\n",
              "  (U4): Linear(in_features=20, out_features=1024, bias=True)\n",
              "  (V4): Linear(in_features=1024, out_features=20, bias=True)\n",
              "  (ol): Linear(in_features=20, out_features=10, bias=True)\n",
              ")"
            ]
          },
          "metadata": {
            "tags": []
          },
          "execution_count": 12
        }
      ]
    },
    {
      "cell_type": "code",
      "metadata": {
        "id": "4I-tDYmsNEUV"
      },
      "source": [
        "def compress(model1 = NN, model2 = f_NN, singular_values = [20]):\n",
        "\n",
        "    # Get model weight matrices\n",
        "    W1 = model1.fc2.weight.data\n",
        "    W2 = model1.fc3.weight.data\n",
        "    W3 = model1.fc4.weight.data\n",
        "    W4 = model1.fc5.weight.data\n",
        "\n",
        "    # Apply SVD to compress weights\n",
        "    U1, S1, V1 = torch.svd(W1)\n",
        "    U2, S2, V2 = torch.svd(W2)\n",
        "    U3, S3, V3 = torch.svd(W3)\n",
        "    U4, S4, V4 = torch.svd(W4)\n",
        "\n",
        "    for D in singular_values:\n",
        "\n",
        "        # Calculate approximate weights\n",
        "        U1, V1_T = U1[:,:D], torch.diag(S1[:D]) @ V1[:, :D].T\n",
        "        U2, V2_T = U2[:,:D], torch.diag(S2[:D]) @ V2[:, :D].T\n",
        "        U3, V3_T = U3[:,:D], torch.diag(S3[:D]) @ V3[:, :D].T\n",
        "        U4, V4_T = U4[:,:D], torch.diag(S4[:D]) @ V4[:, :D].T\n",
        "\n",
        "        # Load model state dictionary and modify weights\n",
        "        state_dict = model2.state_dict()\n",
        "\n",
        "        state_dict['U1.weight'] = U1\n",
        "        state_dict['V1.weight'] = V1_T\n",
        "        state_dict['U2.weight'] = U2\n",
        "        state_dict['V2.weight'] = V2_T\n",
        "        state_dict['U3.weight'] = U3\n",
        "        state_dict['V3.weight'] = V3_T\n",
        "        state_dict['U4.weight'] = U4\n",
        "        state_dict['V4.weight'] = V4_T\n",
        "\n",
        "        # Warmstart model with modified model weights\n",
        "        model2.load_state_dict(state_dict, strict = False)\n",
        "\n",
        "        # Train\n",
        "        print(\"Training...\")\n",
        "        train(model = model2, lr = 0.00005, n_epochs = 50, plot = False)\n",
        "        print(\"\\n\")\n",
        "\n",
        "        # Test\n",
        "        print(\"Testing...\")\n",
        "        print(f\"Number of singular values used: {D}\")\n",
        "        _ = test(model = model2)"
      ],
      "execution_count": null,
      "outputs": []
    },
    {
      "cell_type": "code",
      "metadata": {
        "colab": {
          "base_uri": "https://localhost:8080/"
        },
        "id": "YvH6sjXiXV9q",
        "outputId": "9d864e95-ddfd-475e-b66f-a3afb2f0d15e"
      },
      "source": [
        "compress(model1 = NN,\n",
        "         model2 = f_NN,\n",
        "         singular_values = [20])"
      ],
      "execution_count": null,
      "outputs": [
        {
          "output_type": "stream",
          "text": [
            "Training...\n",
            "Epoch 10 | train loss: 0.2290, train accuracy: 93.43%\n",
            "Epoch 20 | train loss: 0.1308, train accuracy: 96.09%\n",
            "Epoch 30 | train loss: 0.0899, train accuracy: 97.29%\n",
            "Epoch 40 | train loss: 0.0638, train accuracy: 98.12%\n",
            "Epoch 50 | train loss: 0.0468, train accuracy: 98.66%\n",
            "\n",
            "\n",
            "Testing...\n",
            "Number of singular values used: 20\n",
            "Test accuracy: 96.26%\n"
          ],
          "name": "stdout"
        }
      ]
    },
    {
      "cell_type": "markdown",
      "metadata": {
        "id": "IlXhV6FQH5xh"
      },
      "source": [
        "# **Problem 3**"
      ]
    },
    {
      "cell_type": "code",
      "metadata": {
        "id": "gDk-MRIAH32o"
      },
      "source": [
        "class CustomGrad(torch.autograd.Function):\n",
        "\n",
        "    @staticmethod\n",
        "    def forward(ctx, input):\n",
        "        ctx.save_for_backward(input)\n",
        "        U, S, V = torch.svd(input)\n",
        "        return U[:, :20] @ torch.diag(S[:20]) @ V[:, :20].T\n",
        "    \n",
        "    @staticmethod\n",
        "    def backward(ctx, grad_output):\n",
        "        input, = ctx.saved_tensors\n",
        "        grad_input = grad_output.clone()\n",
        "        return grad_input"
      ],
      "execution_count": null,
      "outputs": []
    },
    {
      "cell_type": "code",
      "metadata": {
        "colab": {
          "base_uri": "https://localhost:8080/"
        },
        "id": "SrqoHMiOcnBo",
        "outputId": "782c7482-d7c5-4674-9d7f-8742bd1bfe4b"
      },
      "source": [
        "# Define a neural network architecture with 5 hidden layers of 1024 neurons per layer\n",
        "\n",
        "class CustomGradNN(nn.Module):\n",
        "  def __init__(self):\n",
        "    super(CustomGradNN, self).__init__()\n",
        "\n",
        "    self.fc1 = nn.Linear(784, 1024)\n",
        "    self.fc2 = nn.Linear(1024, 1024)\n",
        "    self.fc3 = nn.Linear(1024, 1024)\n",
        "    self.fc4 = nn.Linear(1024, 1024)\n",
        "    self.fc5 = nn.Linear(1024, 1024)\n",
        "    self.fc6 = nn.Linear(1024, 10)\n",
        "\n",
        "    self.grad = CustomGrad.apply\n",
        "  \n",
        "  def forward(self, x):\n",
        "    x = x.view(-1, 28 * 28)\n",
        "    x = F.relu(F.linear(x, self.grad(self.fc1.weight), self.fc1.bias))\n",
        "    x = F.relu(F.linear(x, self.grad(self.fc2.weight), self.fc2.bias))\n",
        "    x = F.relu(F.linear(x, self.grad(self.fc3.weight), self.fc3.bias))\n",
        "    x = F.relu(F.linear(x, self.grad(self.fc4.weight), self.fc4.bias))\n",
        "    x = F.relu(F.linear(x, self.grad(self.fc5.weight), self.fc5.bias))\n",
        "    x = F.log_softmax(self.fc6(x), dim = 1)\n",
        "    \n",
        "    return x\n",
        "\n",
        "# Initilize NN class\n",
        "cust_NN = CustomGradNN()\n",
        "cust_NN.load_state_dict(NN.state_dict(), strict = False)\n",
        "cust_NN.to(device)"
      ],
      "execution_count": null,
      "outputs": [
        {
          "output_type": "execute_result",
          "data": {
            "text/plain": [
              "CustomGradNN(\n",
              "  (fc1): Linear(in_features=784, out_features=1024, bias=True)\n",
              "  (fc2): Linear(in_features=1024, out_features=1024, bias=True)\n",
              "  (fc3): Linear(in_features=1024, out_features=1024, bias=True)\n",
              "  (fc4): Linear(in_features=1024, out_features=1024, bias=True)\n",
              "  (fc5): Linear(in_features=1024, out_features=1024, bias=True)\n",
              "  (fc6): Linear(in_features=1024, out_features=10, bias=True)\n",
              ")"
            ]
          },
          "metadata": {
            "tags": []
          },
          "execution_count": 16
        }
      ]
    },
    {
      "cell_type": "code",
      "metadata": {
        "colab": {
          "base_uri": "https://localhost:8080/",
          "height": 526
        },
        "id": "1XLr8tUriN5k",
        "outputId": "39a87a42-d2b8-4d34-c7c4-8bb3a75211cc"
      },
      "source": [
        "train(model = cust_NN,\n",
        "      lr = 0.001,\n",
        "      n_epochs = 50)"
      ],
      "execution_count": null,
      "outputs": [
        {
          "output_type": "stream",
          "text": [
            "Epoch 10 | train loss: 0.0642, train accuracy: 98.05%\n",
            "Epoch 20 | train loss: 0.0567, train accuracy: 98.25%\n",
            "Epoch 30 | train loss: 0.0566, train accuracy: 98.22%\n",
            "Epoch 40 | train loss: 0.0509, train accuracy: 98.52%\n",
            "Epoch 50 | train loss: 0.0496, train accuracy: 98.46%\n",
            "\n",
            "\n"
          ],
          "name": "stdout"
        },
        {
          "output_type": "display_data",
          "data": {
            "image/png": "[encoded data removed]",
            "text/plain": [
              "<Figure size 1440x432 with 2 Axes>"
            ]
          },
          "metadata": {
            "tags": [],
            "needs_background": "light"
          }
        }
      ]
    },
    {
      "cell_type": "code",
      "metadata": {
        "colab": {
          "base_uri": "https://localhost:8080/"
        },
        "id": "1c9T8SG0i2wa",
        "outputId": "044f2a91-3845-465f-fc47-19fd901a4d50"
      },
      "source": [
        "_ = test(model = cust_NN)"
      ],
      "execution_count": null,
      "outputs": [
        {
          "output_type": "stream",
          "text": [
            "Test accuracy: 97.34%\n"
          ],
          "name": "stdout"
        }
      ]
    }
  ]
}