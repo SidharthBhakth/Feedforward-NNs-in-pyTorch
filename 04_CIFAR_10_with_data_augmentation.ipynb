{
  "nbformat": 4,
  "nbformat_minor": 0,
  "metadata": {
    "colab": {
      "name": "04-CIFAR-10 with data augmentation.ipynb",
      "provenance": [],
      "collapsed_sections": [],
      "authorship_tag": "ABX9TyOMx4l3D2lq9je1Y03Kfxup",
      "include_colab_link": true
    },
    "kernelspec": {
      "name": "python3",
      "display_name": "Python 3"
    },
    "widgets": {
      "application/vnd.jupyter.widget-state+json": {
        "c193db91aef64ca28c8e98bfbcfe7e2c": {
          "model_module": "@jupyter-widgets/controls",
          "model_name": "HBoxModel",
          "state": {
            "_view_name": "HBoxView",
            "_dom_classes": [],
            "_model_name": "HBoxModel",
            "_view_module": "@jupyter-widgets/controls",
            "_model_module_version": "1.5.0",
            "_view_count": null,
            "_view_module_version": "1.5.0",
            "box_style": "",
            "layout": "IPY_MODEL_ece48e30493245b184365f4283252ebd",
            "_model_module": "@jupyter-widgets/controls",
            "children": [
              "IPY_MODEL_05897fdd8b2848399207cf26dc7c935b",
              "IPY_MODEL_b2c96d90ac4f45549d9f7454f10d9d14"
            ]
          }
        },
        "ece48e30493245b184365f4283252ebd": {
          "model_module": "@jupyter-widgets/base",
          "model_name": "LayoutModel",
          "state": {
            "_view_name": "LayoutView",
            "grid_template_rows": null,
            "right": null,
            "justify_content": null,
            "_view_module": "@jupyter-widgets/base",
            "overflow": null,
            "_model_module_version": "1.2.0",
            "_view_count": null,
            "flex_flow": null,
            "width": null,
            "min_width": null,
            "border": null,
            "align_items": null,
            "bottom": null,
            "_model_module": "@jupyter-widgets/base",
            "top": null,
            "grid_column": null,
            "overflow_y": null,
            "overflow_x": null,
            "grid_auto_flow": null,
            "grid_area": null,
            "grid_template_columns": null,
            "flex": null,
            "_model_name": "LayoutModel",
            "justify_items": null,
            "grid_row": null,
            "max_height": null,
            "align_content": null,
            "visibility": null,
            "align_self": null,
            "height": null,
            "min_height": null,
            "padding": null,
            "grid_auto_rows": null,
            "grid_gap": null,
            "max_width": null,
            "order": null,
            "_view_module_version": "1.2.0",
            "grid_template_areas": null,
            "object_position": null,
            "object_fit": null,
            "grid_auto_columns": null,
            "margin": null,
            "display": null,
            "left": null
          }
        },
        "05897fdd8b2848399207cf26dc7c935b": {
          "model_module": "@jupyter-widgets/controls",
          "model_name": "FloatProgressModel",
          "state": {
            "_view_name": "ProgressView",
            "style": "IPY_MODEL_ed709de90eee42ab9d5689c07b3ebb89",
            "_dom_classes": [],
            "description": "",
            "_model_name": "FloatProgressModel",
            "bar_style": "info",
            "max": 1,
            "_view_module": "@jupyter-widgets/controls",
            "_model_module_version": "1.5.0",
            "value": 1,
            "_view_count": null,
            "_view_module_version": "1.5.0",
            "orientation": "horizontal",
            "min": 0,
            "description_tooltip": null,
            "_model_module": "@jupyter-widgets/controls",
            "layout": "IPY_MODEL_cef9f6a4efde4e3fa8a02f1c13ddf405"
          }
        },
        "b2c96d90ac4f45549d9f7454f10d9d14": {
          "model_module": "@jupyter-widgets/controls",
          "model_name": "HTMLModel",
          "state": {
            "_view_name": "HTMLView",
            "style": "IPY_MODEL_55b39c007fa846ac9fff2a409286da51",
            "_dom_classes": [],
            "description": "",
            "_model_name": "HTMLModel",
            "placeholder": "​",
            "_view_module": "@jupyter-widgets/controls",
            "_model_module_version": "1.5.0",
            "value": " 170500096/? [00:20&lt;00:00, 53779709.40it/s]",
            "_view_count": null,
            "_view_module_version": "1.5.0",
            "description_tooltip": null,
            "_model_module": "@jupyter-widgets/controls",
            "layout": "IPY_MODEL_8c8cdf826fff498b8c9234517c1790f1"
          }
        },
        "ed709de90eee42ab9d5689c07b3ebb89": {
          "model_module": "@jupyter-widgets/controls",
          "model_name": "ProgressStyleModel",
          "state": {
            "_view_name": "StyleView",
            "_model_name": "ProgressStyleModel",
            "description_width": "initial",
            "_view_module": "@jupyter-widgets/base",
            "_model_module_version": "1.5.0",
            "_view_count": null,
            "_view_module_version": "1.2.0",
            "bar_color": null,
            "_model_module": "@jupyter-widgets/controls"
          }
        },
        "cef9f6a4efde4e3fa8a02f1c13ddf405": {
          "model_module": "@jupyter-widgets/base",
          "model_name": "LayoutModel",
          "state": {
            "_view_name": "LayoutView",
            "grid_template_rows": null,
            "right": null,
            "justify_content": null,
            "_view_module": "@jupyter-widgets/base",
            "overflow": null,
            "_model_module_version": "1.2.0",
            "_view_count": null,
            "flex_flow": null,
            "width": null,
            "min_width": null,
            "border": null,
            "align_items": null,
            "bottom": null,
            "_model_module": "@jupyter-widgets/base",
            "top": null,
            "grid_column": null,
            "overflow_y": null,
            "overflow_x": null,
            "grid_auto_flow": null,
            "grid_area": null,
            "grid_template_columns": null,
            "flex": null,
            "_model_name": "LayoutModel",
            "justify_items": null,
            "grid_row": null,
            "max_height": null,
            "align_content": null,
            "visibility": null,
            "align_self": null,
            "height": null,
            "min_height": null,
            "padding": null,
            "grid_auto_rows": null,
            "grid_gap": null,
            "max_width": null,
            "order": null,
            "_view_module_version": "1.2.0",
            "grid_template_areas": null,
            "object_position": null,
            "object_fit": null,
            "grid_auto_columns": null,
            "margin": null,
            "display": null,
            "left": null
          }
        },
        "55b39c007fa846ac9fff2a409286da51": {
          "model_module": "@jupyter-widgets/controls",
          "model_name": "DescriptionStyleModel",
          "state": {
            "_view_name": "StyleView",
            "_model_name": "DescriptionStyleModel",
            "description_width": "",
            "_view_module": "@jupyter-widgets/base",
            "_model_module_version": "1.5.0",
            "_view_count": null,
            "_view_module_version": "1.2.0",
            "_model_module": "@jupyter-widgets/controls"
          }
        },
        "8c8cdf826fff498b8c9234517c1790f1": {
          "model_module": "@jupyter-widgets/base",
          "model_name": "LayoutModel",
          "state": {
            "_view_name": "LayoutView",
            "grid_template_rows": null,
            "right": null,
            "justify_content": null,
            "_view_module": "@jupyter-widgets/base",
            "overflow": null,
            "_model_module_version": "1.2.0",
            "_view_count": null,
            "flex_flow": null,
            "width": null,
            "min_width": null,
            "border": null,
            "align_items": null,
            "bottom": null,
            "_model_module": "@jupyter-widgets/base",
            "top": null,
            "grid_column": null,
            "overflow_y": null,
            "overflow_x": null,
            "grid_auto_flow": null,
            "grid_area": null,
            "grid_template_columns": null,
            "flex": null,
            "_model_name": "LayoutModel",
            "justify_items": null,
            "grid_row": null,
            "max_height": null,
            "align_content": null,
            "visibility": null,
            "align_self": null,
            "height": null,
            "min_height": null,
            "padding": null,
            "grid_auto_rows": null,
            "grid_gap": null,
            "max_width": null,
            "order": null,
            "_view_module_version": "1.2.0",
            "grid_template_areas": null,
            "object_position": null,
            "object_fit": null,
            "grid_auto_columns": null,
            "margin": null,
            "display": null,
            "left": null
          }
        }
      }
    }
  },
  "cells": [
    {
      "cell_type": "markdown",
      "metadata": {
        "id": "view-in-github",
        "colab_type": "text"
      },
      "source": [
        "<a href=\"https://colab.research.google.com/github/SidharthBhakth/Feedforward-NNs-in-pyTorch/blob/main/04_CIFAR_10_with_data_augmentation.ipynb\" target=\"_parent\"><img src=\"https://colab.research.google.com/assets/colab-badge.svg\" alt=\"Open In Colab\"/></a>"
      ]
    },
    {
      "cell_type": "markdown",
      "metadata": {
        "id": "kslXU34e_cLN"
      },
      "source": [
        "# **CIFAR-10 with data augmentation**"
      ]
    },
    {
      "cell_type": "code",
      "metadata": {
        "id": "PcP7EUcwu9hA",
        "colab": {
          "base_uri": "https://localhost:8080/",
          "height": 34
        },
        "outputId": "2936036e-2621-4c65-a47e-363ecd30fc78"
      },
      "source": [
        "import numpy as np\n",
        "\n",
        "import torch\n",
        "from torch import nn, optim\n",
        "from torchvision.datasets import CIFAR10\n",
        "from torchvision import transforms\n",
        "from torchvision.utils import make_grid\n",
        "from torch.utils.data import DataLoader, random_split\n",
        "\n",
        "import matplotlib.pyplot as plt\n",
        "import seaborn as sns\n",
        "\n",
        "# Set seed for reproducibility\n",
        "torch.manual_seed(42)"
      ],
      "execution_count": null,
      "outputs": [
        {
          "output_type": "execute_result",
          "data": {
            "text/plain": [
              "<torch._C.Generator at 0x7fda4b55e5a0>"
            ]
          },
          "metadata": {
            "tags": []
          },
          "execution_count": 1
        }
      ]
    },
    {
      "cell_type": "code",
      "metadata": {
        "id": "uqOaFEe4yUEK",
        "colab": {
          "base_uri": "https://localhost:8080/",
          "height": 50
        },
        "outputId": "81645292-34dc-4175-988f-933066af0179"
      },
      "source": [
        "# Check if GPU is available\n",
        "print(torch.cuda.is_available())\n",
        "\n",
        "# Set device to GPU\n",
        "device = torch.device('cuda' if torch.cuda.is_available() else 'cpu')\n",
        "print(device)"
      ],
      "execution_count": null,
      "outputs": [
        {
          "output_type": "stream",
          "text": [
            "True\n",
            "cuda\n"
          ],
          "name": "stdout"
        }
      ]
    },
    {
      "cell_type": "code",
      "metadata": {
        "id": "ajmxhWp-50z4",
        "colab": {
          "base_uri": "https://localhost:8080/",
          "height": 82,
          "referenced_widgets": [
            "c193db91aef64ca28c8e98bfbcfe7e2c",
            "ece48e30493245b184365f4283252ebd",
            "05897fdd8b2848399207cf26dc7c935b",
            "b2c96d90ac4f45549d9f7454f10d9d14",
            "ed709de90eee42ab9d5689c07b3ebb89",
            "cef9f6a4efde4e3fa8a02f1c13ddf405",
            "55b39c007fa846ac9fff2a409286da51",
            "8c8cdf826fff498b8c9234517c1790f1"
          ]
        },
        "outputId": "ee113dc9-88ab-42ac-c43a-aa5b16a8c549"
      },
      "source": [
        "dataset = CIFAR10(root='./data', train=True, download=True, transform=transforms.ToTensor())\n",
        "\n",
        "train, val = torch.utils.data.random_split(dataset, [45000, 5000])"
      ],
      "execution_count": null,
      "outputs": [
        {
          "output_type": "stream",
          "text": [
            "Downloading https://www.cs.toronto.edu/~kriz/cifar-10-python.tar.gz to ./data/cifar-10-python.tar.gz\n"
          ],
          "name": "stdout"
        },
        {
          "output_type": "display_data",
          "data": {
            "application/vnd.jupyter.widget-view+json": {
              "model_id": "c193db91aef64ca28c8e98bfbcfe7e2c",
              "version_minor": 0,
              "version_major": 2
            },
            "text/plain": [
              "HBox(children=(FloatProgress(value=1.0, bar_style='info', max=1.0), HTML(value='')))"
            ]
          },
          "metadata": {
            "tags": []
          }
        },
        {
          "output_type": "stream",
          "text": [
            "Extracting ./data/cifar-10-python.tar.gz to ./data\n"
          ],
          "name": "stdout"
        }
      ]
    },
    {
      "cell_type": "code",
      "metadata": {
        "id": "gX08CljXSsGG"
      },
      "source": [
        "def apply_transforms(data, transform):\n",
        "  \n",
        "  X = []\n",
        "  y = []\n",
        "\n",
        "  for image, label in data:\n",
        "    image = transform(image)\n",
        "    X.append(image)\n",
        "    y.append(label)\n",
        "  \n",
        "  return torch.stack(X), torch.tensor(y)"
      ],
      "execution_count": null,
      "outputs": []
    },
    {
      "cell_type": "code",
      "metadata": {
        "id": "FONA1NAF1DS1"
      },
      "source": [
        "class Dataset(torch.utils.data.Dataset):\n",
        "  \"\"\"\n",
        "  Custom class to apply transforms\n",
        "  \"\"\"\n",
        "  def __init__(self, images, labels):\n",
        "    self.images = images\n",
        "    self.labels = labels\n",
        "  \n",
        "  def __getitem__(self, idx):\n",
        "    # Generates one sample of data\n",
        "    image, label = self.images[idx], self.labels[idx]\n",
        "\n",
        "    return image, label\n",
        "  \n",
        "  def __len__(self):\n",
        "    return len(self.images)"
      ],
      "execution_count": null,
      "outputs": []
    },
    {
      "cell_type": "code",
      "metadata": {
        "id": "XhlGpV_dVwRJ"
      },
      "source": [
        "X_train, Y_train = apply_transforms(data = train, transform = transforms.Normalize((0.5, 0.5, 0.5), (0.5, 0.5, 0.5)))\n",
        "train_set = Dataset(X_train, Y_train)\n",
        "train_loader = DataLoader(train_set, batch_size=500, shuffle = True)\n",
        "\n",
        "X_val, Y_val = apply_transforms(data = val, transform = transforms.Normalize((0.5, 0.5, 0.5), (0.5, 0.5, 0.5)))\n",
        "val_set = Dataset(X_val, Y_val)\n",
        "val_loader = DataLoader(val_set, batch_size=5000, shuffle = True)"
      ],
      "execution_count": null,
      "outputs": []
    },
    {
      "cell_type": "code",
      "metadata": {
        "id": "aeIR24V3AEdF"
      },
      "source": [
        "class ConvNet(nn.Module):\n",
        "    def __init__(self):\n",
        "        super(ConvNet, self).__init__()\n",
        "        \n",
        "        self.conv1 = nn.Sequential(nn.Conv2d(in_channels = 3, out_channels = 10, kernel_size = (5, 5), stride = 1),\n",
        "                                    nn.ReLU(),\n",
        "                                    nn.MaxPool2d(kernel_size = (2, 2), stride = 2))\n",
        "        \n",
        "        self.conv2 = nn.Sequential(nn.Conv2d(in_channels = 10, out_channels = 10, kernel_size = (5, 5), stride = 1),\n",
        "                                    nn.ReLU(),\n",
        "                                    nn.MaxPool2d(kernel_size = (2, 2), stride = 2))\n",
        "                \n",
        "        self.fc1 = nn.Sequential(nn.Linear(in_features = 5 * 5 * 10, out_features = 20),\n",
        "                                 nn.ReLU())\n",
        "        \n",
        "        self.fc2 = nn.Sequential(nn.Linear(in_features = 20, out_features = 10),\n",
        "                                 nn.LogSoftmax(dim = 1))\n",
        "        \n",
        "    def forward(self, x):\n",
        "        x = self.conv1(x)\n",
        "        x = self.conv2(x)\n",
        "        x = x.view(x.size(0), -1)\n",
        "        x = self.fc1(x)\n",
        "        x = self.fc2(x)\n",
        "        \n",
        "        return x"
      ],
      "execution_count": null,
      "outputs": []
    },
    {
      "cell_type": "code",
      "metadata": {
        "id": "PG0sXCylnSWV"
      },
      "source": [
        "def init_kaiming(m):\n",
        "  if type(m) == nn.Linear:\n",
        "    nn.init.kaiming_normal_(m.weight)\n",
        "    m.bias.data.fill_(0.01)"
      ],
      "execution_count": null,
      "outputs": []
    },
    {
      "cell_type": "code",
      "metadata": {
        "id": "_IZ-SlW-ANoz"
      },
      "source": [
        "def training_loop(model, lr=0.001, n_epochs = 200):\n",
        "  \"\"\"\n",
        "  Custom training loop to train neural network\n",
        "  \"\"\"\n",
        "  # Initilize NN class\n",
        "  NN = model\n",
        "  NN.apply(init_kaiming)\n",
        "\n",
        "  # Transfer to GPU\n",
        "  NN.to(device)\n",
        "\n",
        "  # hyperparameters\n",
        "  loss_fn = nn.CrossEntropyLoss()\n",
        "  optimizer = optim.Adam(NN.parameters(), lr=lr)\n",
        "\n",
        "  val_accuracy = []\n",
        "\n",
        "  for epoch in range(n_epochs):\n",
        "      \n",
        "      # Train\n",
        "      NN.train()\n",
        "      for images, labels in train_loader:        \n",
        "          X_train, Y_train = images.to(device), labels.to(device)               # Transfer to GPU\n",
        "          optimizer.zero_grad()                                                 # Set the parameter gradients to zero\n",
        "          output = NN(X_train)                                                  # Forward pass\n",
        "          loss = loss_fn(output, Y_train)                                       # Compute loss\n",
        "          loss.backward()                                                       # Backpropagation\n",
        "          optimizer.step()                                                      # Optimization\n",
        "          \n",
        "      # Validate\n",
        "      NN.eval()\n",
        "      with torch.no_grad():\n",
        "        for images, labels in val_loader:\n",
        "          X_val, Y_val = images.to(device), labels.to(device)                   # Transfer to GPU\n",
        "          prediction = NN(X_val)                                                # Predict\n",
        "          Y_pred = torch.argmax(prediction, dim=1)                              # For each prediction, find the dim with the maximum probability\n",
        "          accuracy = 100 * (sum(Y_pred == Y_val).item() / len(Y_val))           # Compute accuracy\n",
        "\n",
        "      # Keep track of validation accuracy for each epoch\n",
        "      val_accuracy.append(accuracy)\n",
        "\n",
        "      if (epoch+1) % 20 == 0:\n",
        "          print(\"Epoch {} | validation accuracy: {:.2f}%\".format(epoch+1, val_accuracy[-1]))\n",
        "      \n",
        "  return val_accuracy"
      ],
      "execution_count": null,
      "outputs": []
    },
    {
      "cell_type": "code",
      "metadata": {
        "id": "46QsfUAl5fYa",
        "colab": {
          "base_uri": "https://localhost:8080/",
          "height": 185
        },
        "outputId": "d294e239-40a5-4016-c99b-a064119cc8b2"
      },
      "source": [
        "# train baseline model\n",
        "baseline_val_accuracy = training_loop(model = ConvNet())"
      ],
      "execution_count": null,
      "outputs": [
        {
          "output_type": "stream",
          "text": [
            "Epoch 20 | validation accuracy: 57.20%\n",
            "Epoch 40 | validation accuracy: 61.14%\n",
            "Epoch 60 | validation accuracy: 62.72%\n",
            "Epoch 80 | validation accuracy: 62.70%\n",
            "Epoch 100 | validation accuracy: 63.52%\n",
            "Epoch 120 | validation accuracy: 63.56%\n",
            "Epoch 140 | validation accuracy: 63.94%\n",
            "Epoch 160 | validation accuracy: 64.70%\n",
            "Epoch 180 | validation accuracy: 64.48%\n",
            "Epoch 200 | validation accuracy: 64.50%\n"
          ],
          "name": "stdout"
        }
      ]
    },
    {
      "cell_type": "code",
      "metadata": {
        "id": "-8f8MWaNC_jc"
      },
      "source": [
        "## Data augmentation\n",
        "\n",
        "# Augmented dataset #1: brighten every pixel by 10%\n",
        "X_train_aug1, Y_train_aug1 = apply_transforms(data = train, transform = transforms.Compose([transforms.ColorJitter(brightness = (1.1, 1.1)),\n",
        "                                                                                            transforms.Normalize((0.5, 0.5, 0.5), (0.5, 0.5, 0.5))]))\n",
        "\n",
        "# Augmented dataset #2: darken every pixel by 10%\n",
        "X_train_aug2, Y_train_aug2 = apply_transforms(data = train, transform = transforms.Compose([transforms.ColorJitter(brightness = (0.9, 0.9)),\n",
        "                                                                                            transforms.Normalize((0.5, 0.5, 0.5), (0.5, 0.5, 0.5))]))\n",
        "\n",
        "# Augmented dataset #3: flip all images horizontally\n",
        "X_train_aug3, Y_train_aug3 = apply_transforms(data = train, transform = transforms.Compose([transforms.RandomHorizontalFlip(p=1.0),\n",
        "                                                                                            transforms.Normalize((0.5, 0.5, 0.5), (0.5, 0.5, 0.5))]))\n",
        "\n",
        "# Augmented dataset #4: normalize\n",
        "X_train_aug4, Y_train_aug4 = apply_transforms(data = train, transform = transforms.Normalize((0.5, 0.5, 0.5), (0.5, 0.5, 0.5)))"
      ],
      "execution_count": null,
      "outputs": []
    },
    {
      "cell_type": "code",
      "metadata": {
        "id": "NVRwcpgwRNu4",
        "colab": {
          "base_uri": "https://localhost:8080/",
          "height": 585
        },
        "outputId": "0032df4b-a3f8-49f3-9b0d-a75d257f1615"
      },
      "source": [
        "def imshow(img):\n",
        "    img = img / 2 + 0.5     # unnormalize\n",
        "    img = img.numpy()\n",
        "    plt.figure(figsize = (2,2))\n",
        "    plt.imshow(np.transpose(img, (1, 2, 0)))\n",
        "    plt.show();\n",
        "\n",
        "# visualize random training images\n",
        "idx = np.random.randint(0, 45000)\n",
        "for dataset in [X_train_aug1, X_train_aug2, X_train_aug3, X_train_aug4]:\n",
        "  imshow(make_grid(dataset[idx]))"
      ],
      "execution_count": null,
      "outputs": [
        {
          "output_type": "display_data",
          "data": {
            "image/png": "[encoded data removed]",
            "text/plain": [
              "<Figure size 144x144 with 1 Axes>"
            ]
          },
          "metadata": {
            "tags": [],
            "needs_background": "light"
          }
        },
        {
          "output_type": "display_data",
          "data": {
            "image/png": "[encoded data removed]",
            "text/plain": [
              "<Figure size 144x144 with 1 Axes>"
            ]
          },
          "metadata": {
            "tags": [],
            "needs_background": "light"
          }
        },
        {
          "output_type": "display_data",
          "data": {
            "image/png": "[encoded data removed]",
            "text/plain": [
              "<Figure size 144x144 with 1 Axes>"
            ]
          },
          "metadata": {
            "tags": [],
            "needs_background": "light"
          }
        },
        {
          "output_type": "display_data",
          "data": {
            "image/png": "[encoded data removed]",
            "text/plain": [
              "<Figure size 144x144 with 1 Axes>"
            ]
          },
          "metadata": {
            "tags": [],
            "needs_background": "light"
          }
        }
      ]
    },
    {
      "cell_type": "code",
      "metadata": {
        "id": "1OITF-oQtS11"
      },
      "source": [
        "X_train = torch.cat([X_train_aug1, X_train_aug2, X_train_aug3, X_train_aug4], 0)\n",
        "Y_train = torch.cat([Y_train_aug1, Y_train_aug2, Y_train_aug3, Y_train_aug4], 0)\n",
        "\n",
        "train_set = Dataset(X_train, Y_train)\n",
        "train_loader = DataLoader(train_set, batch_size=500, shuffle = True)"
      ],
      "execution_count": null,
      "outputs": []
    },
    {
      "cell_type": "code",
      "metadata": {
        "id": "CuDxniGAuoMx",
        "colab": {
          "base_uri": "https://localhost:8080/",
          "height": 185
        },
        "outputId": "bb6cb5d5-eb11-436a-82fa-10d5a0467388"
      },
      "source": [
        "# train augmened model\n",
        "augmented_val_accuracy = training_loop(model = ConvNet())"
      ],
      "execution_count": null,
      "outputs": [
        {
          "output_type": "stream",
          "text": [
            "Epoch 20 | validation accuracy: 66.18%\n",
            "Epoch 40 | validation accuracy: 67.30%\n",
            "Epoch 60 | validation accuracy: 67.58%\n",
            "Epoch 80 | validation accuracy: 67.02%\n",
            "Epoch 100 | validation accuracy: 67.50%\n",
            "Epoch 120 | validation accuracy: 67.90%\n",
            "Epoch 140 | validation accuracy: 67.66%\n",
            "Epoch 160 | validation accuracy: 67.56%\n",
            "Epoch 180 | validation accuracy: 67.22%\n",
            "Epoch 200 | validation accuracy: 67.58%\n"
          ],
          "name": "stdout"
        }
      ]
    },
    {
      "cell_type": "code",
      "metadata": {
        "id": "ZuCNbKCBvGOT",
        "colab": {
          "base_uri": "https://localhost:8080/",
          "height": 625
        },
        "outputId": "e23eef23-fd31-46f9-8cdf-941a9ceb1ee5"
      },
      "source": [
        "sns.set_context('poster')\n",
        "plt.style.use('seaborn-whitegrid')\n",
        "\n",
        "plt.figure(figsize = (20,10))\n",
        "plt.plot(baseline_val_accuracy, label = 'Baseline model')\n",
        "plt.plot(augmented_val_accuracy, label = 'Augmented model')\n",
        "plt.ylabel('Validation Accuracy')\n",
        "plt.xlabel('Epochs')\n",
        "plt.legend(loc='lower right');"
      ],
      "execution_count": null,
      "outputs": [
        {
          "output_type": "display_data",
          "data": {
            "image/png": "[encoded data removed]",
            "text/plain": [
              "<Figure size 1440x720 with 1 Axes>"
            ]
          },
          "metadata": {
            "tags": []
          }
        }
      ]
    },
    {
      "cell_type": "markdown",
      "metadata": {
        "id": "8REZeV9_OEhx"
      },
      "source": [
        "We can see from the plot of validation accuracies of both models that data augementation does indeed increase the validation performance."
      ]
    }
  ]
}