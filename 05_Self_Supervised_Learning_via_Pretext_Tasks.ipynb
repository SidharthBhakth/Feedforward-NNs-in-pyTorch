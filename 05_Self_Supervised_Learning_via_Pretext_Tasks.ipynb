{
  "nbformat": 4,
  "nbformat_minor": 0,
  "metadata": {
    "colab": {
      "name": " 05-Self-Supervised Learning via Pretext Tasks.ipynb",
      "provenance": [],
      "collapsed_sections": [],
      "authorship_tag": "ABX9TyMMVbwdcCmNsW0lKSRdVQ6I",
      "include_colab_link": true
    },
    "kernelspec": {
      "name": "python3",
      "display_name": "Python 3"
    },
    "widgets": {
      "application/vnd.jupyter.widget-state+json": {
        "d952d538daaa4bd98ac6d2eed5ba01ab": {
          "model_module": "@jupyter-widgets/controls",
          "model_name": "HBoxModel",
          "state": {
            "_view_name": "HBoxView",
            "_dom_classes": [],
            "_model_name": "HBoxModel",
            "_view_module": "@jupyter-widgets/controls",
            "_model_module_version": "1.5.0",
            "_view_count": null,
            "_view_module_version": "1.5.0",
            "box_style": "",
            "layout": "IPY_MODEL_75a86da2234341f3ab8b57114f6d2e82",
            "_model_module": "@jupyter-widgets/controls",
            "children": [
              "IPY_MODEL_4a0ef8298434441aaaeb07bd6d1b6a78",
              "IPY_MODEL_9fb138e7a36c41cbbc17c5abde5420a4"
            ]
          }
        },
        "75a86da2234341f3ab8b57114f6d2e82": {
          "model_module": "@jupyter-widgets/base",
          "model_name": "LayoutModel",
          "state": {
            "_view_name": "LayoutView",
            "grid_template_rows": null,
            "right": null,
            "justify_content": null,
            "_view_module": "@jupyter-widgets/base",
            "overflow": null,
            "_model_module_version": "1.2.0",
            "_view_count": null,
            "flex_flow": null,
            "width": null,
            "min_width": null,
            "border": null,
            "align_items": null,
            "bottom": null,
            "_model_module": "@jupyter-widgets/base",
            "top": null,
            "grid_column": null,
            "overflow_y": null,
            "overflow_x": null,
            "grid_auto_flow": null,
            "grid_area": null,
            "grid_template_columns": null,
            "flex": null,
            "_model_name": "LayoutModel",
            "justify_items": null,
            "grid_row": null,
            "max_height": null,
            "align_content": null,
            "visibility": null,
            "align_self": null,
            "height": null,
            "min_height": null,
            "padding": null,
            "grid_auto_rows": null,
            "grid_gap": null,
            "max_width": null,
            "order": null,
            "_view_module_version": "1.2.0",
            "grid_template_areas": null,
            "object_position": null,
            "object_fit": null,
            "grid_auto_columns": null,
            "margin": null,
            "display": null,
            "left": null
          }
        },
        "4a0ef8298434441aaaeb07bd6d1b6a78": {
          "model_module": "@jupyter-widgets/controls",
          "model_name": "FloatProgressModel",
          "state": {
            "_view_name": "ProgressView",
            "style": "IPY_MODEL_12f93e893574470a9cd645371af68336",
            "_dom_classes": [],
            "description": "",
            "_model_name": "FloatProgressModel",
            "bar_style": "info",
            "max": 1,
            "_view_module": "@jupyter-widgets/controls",
            "_model_module_version": "1.5.0",
            "value": 1,
            "_view_count": null,
            "_view_module_version": "1.5.0",
            "orientation": "horizontal",
            "min": 0,
            "description_tooltip": null,
            "_model_module": "@jupyter-widgets/controls",
            "layout": "IPY_MODEL_c6ace8862a8c4f61bda4535495bbf0c9"
          }
        },
        "9fb138e7a36c41cbbc17c5abde5420a4": {
          "model_module": "@jupyter-widgets/controls",
          "model_name": "HTMLModel",
          "state": {
            "_view_name": "HTMLView",
            "style": "IPY_MODEL_39ea6dc9564f4c0cb252b10571724daf",
            "_dom_classes": [],
            "description": "",
            "_model_name": "HTMLModel",
            "placeholder": "​",
            "_view_module": "@jupyter-widgets/controls",
            "_model_module_version": "1.5.0",
            "value": " 170500096/? [00:20&lt;00:00, 98271098.34it/s]",
            "_view_count": null,
            "_view_module_version": "1.5.0",
            "description_tooltip": null,
            "_model_module": "@jupyter-widgets/controls",
            "layout": "IPY_MODEL_e08b1a6af71c45e5803b7954ba32b0b7"
          }
        },
        "12f93e893574470a9cd645371af68336": {
          "model_module": "@jupyter-widgets/controls",
          "model_name": "ProgressStyleModel",
          "state": {
            "_view_name": "StyleView",
            "_model_name": "ProgressStyleModel",
            "description_width": "initial",
            "_view_module": "@jupyter-widgets/base",
            "_model_module_version": "1.5.0",
            "_view_count": null,
            "_view_module_version": "1.2.0",
            "bar_color": null,
            "_model_module": "@jupyter-widgets/controls"
          }
        },
        "c6ace8862a8c4f61bda4535495bbf0c9": {
          "model_module": "@jupyter-widgets/base",
          "model_name": "LayoutModel",
          "state": {
            "_view_name": "LayoutView",
            "grid_template_rows": null,
            "right": null,
            "justify_content": null,
            "_view_module": "@jupyter-widgets/base",
            "overflow": null,
            "_model_module_version": "1.2.0",
            "_view_count": null,
            "flex_flow": null,
            "width": null,
            "min_width": null,
            "border": null,
            "align_items": null,
            "bottom": null,
            "_model_module": "@jupyter-widgets/base",
            "top": null,
            "grid_column": null,
            "overflow_y": null,
            "overflow_x": null,
            "grid_auto_flow": null,
            "grid_area": null,
            "grid_template_columns": null,
            "flex": null,
            "_model_name": "LayoutModel",
            "justify_items": null,
            "grid_row": null,
            "max_height": null,
            "align_content": null,
            "visibility": null,
            "align_self": null,
            "height": null,
            "min_height": null,
            "padding": null,
            "grid_auto_rows": null,
            "grid_gap": null,
            "max_width": null,
            "order": null,
            "_view_module_version": "1.2.0",
            "grid_template_areas": null,
            "object_position": null,
            "object_fit": null,
            "grid_auto_columns": null,
            "margin": null,
            "display": null,
            "left": null
          }
        },
        "39ea6dc9564f4c0cb252b10571724daf": {
          "model_module": "@jupyter-widgets/controls",
          "model_name": "DescriptionStyleModel",
          "state": {
            "_view_name": "StyleView",
            "_model_name": "DescriptionStyleModel",
            "description_width": "",
            "_view_module": "@jupyter-widgets/base",
            "_model_module_version": "1.5.0",
            "_view_count": null,
            "_view_module_version": "1.2.0",
            "_model_module": "@jupyter-widgets/controls"
          }
        },
        "e08b1a6af71c45e5803b7954ba32b0b7": {
          "model_module": "@jupyter-widgets/base",
          "model_name": "LayoutModel",
          "state": {
            "_view_name": "LayoutView",
            "grid_template_rows": null,
            "right": null,
            "justify_content": null,
            "_view_module": "@jupyter-widgets/base",
            "overflow": null,
            "_model_module_version": "1.2.0",
            "_view_count": null,
            "flex_flow": null,
            "width": null,
            "min_width": null,
            "border": null,
            "align_items": null,
            "bottom": null,
            "_model_module": "@jupyter-widgets/base",
            "top": null,
            "grid_column": null,
            "overflow_y": null,
            "overflow_x": null,
            "grid_auto_flow": null,
            "grid_area": null,
            "grid_template_columns": null,
            "flex": null,
            "_model_name": "LayoutModel",
            "justify_items": null,
            "grid_row": null,
            "max_height": null,
            "align_content": null,
            "visibility": null,
            "align_self": null,
            "height": null,
            "min_height": null,
            "padding": null,
            "grid_auto_rows": null,
            "grid_gap": null,
            "max_width": null,
            "order": null,
            "_view_module_version": "1.2.0",
            "grid_template_areas": null,
            "object_position": null,
            "object_fit": null,
            "grid_auto_columns": null,
            "margin": null,
            "display": null,
            "left": null
          }
        }
      }
    }
  },
  "cells": [
    {
      "cell_type": "markdown",
      "metadata": {
        "id": "view-in-github",
        "colab_type": "text"
      },
      "source": [
        "<a href=\"https://colab.research.google.com/github/SidharthBhakth/Feedforward-NNs-in-pyTorch/blob/main/05_Self_Supervised_Learning_via_Pretext_Tasks.ipynb\" target=\"_parent\"><img src=\"https://colab.research.google.com/assets/colab-badge.svg\" alt=\"Open In Colab\"/></a>"
      ]
    },
    {
      "cell_type": "markdown",
      "metadata": {
        "id": "K2baJcNRAG4P"
      },
      "source": [
        "# **CIFAR-10 Self-Supervised Learning via Pretext Tasks**"
      ]
    },
    {
      "cell_type": "code",
      "metadata": {
        "id": "SqAjRqXo48Qk",
        "colab": {
          "base_uri": "https://localhost:8080/",
          "height": 34
        },
        "outputId": "97812188-41e4-4248-ec3e-32e597250d98"
      },
      "source": [
        "import numpy as np\n",
        "\n",
        "import torch\n",
        "from torch import nn, optim\n",
        "import torch.nn.functional as F\n",
        "from torchvision.datasets import CIFAR10\n",
        "from torchvision import transforms\n",
        "from torchvision.utils import make_grid\n",
        "from torch.utils.data import DataLoader, random_split\n",
        "\n",
        "import matplotlib.pyplot as plt\n",
        "import seaborn as sns\n",
        "\n",
        "# Set seed for reproducibility\n",
        "torch.manual_seed(42)"
      ],
      "execution_count": null,
      "outputs": [
        {
          "output_type": "execute_result",
          "data": {
            "text/plain": [
              "<torch._C.Generator at 0x7fb43eca8570>"
            ]
          },
          "metadata": {
            "tags": []
          },
          "execution_count": 1
        }
      ]
    },
    {
      "cell_type": "code",
      "metadata": {
        "id": "MVMTpEwS8lml",
        "colab": {
          "base_uri": "https://localhost:8080/",
          "height": 50
        },
        "outputId": "640864bd-a692-49ee-e5d8-62080ac38dd1"
      },
      "source": [
        "# Check if GPU is available\n",
        "print(torch.cuda.is_available())\n",
        "\n",
        "# Set device to GPU\n",
        "device = torch.device('cuda' if torch.cuda.is_available() else 'cpu')\n",
        "print(device)"
      ],
      "execution_count": null,
      "outputs": [
        {
          "output_type": "stream",
          "text": [
            "True\n",
            "cuda\n"
          ],
          "name": "stdout"
        }
      ]
    },
    {
      "cell_type": "code",
      "metadata": {
        "id": "ajmxhWp-50z4",
        "colab": {
          "base_uri": "https://localhost:8080/",
          "height": 99,
          "referenced_widgets": [
            "d952d538daaa4bd98ac6d2eed5ba01ab",
            "75a86da2234341f3ab8b57114f6d2e82",
            "4a0ef8298434441aaaeb07bd6d1b6a78",
            "9fb138e7a36c41cbbc17c5abde5420a4",
            "12f93e893574470a9cd645371af68336",
            "c6ace8862a8c4f61bda4535495bbf0c9",
            "39ea6dc9564f4c0cb252b10571724daf",
            "e08b1a6af71c45e5803b7954ba32b0b7"
          ]
        },
        "outputId": "d406a67d-39bb-4f1b-bcee-19f6b27323a2"
      },
      "source": [
        "# Load CIFAR10 data\n",
        "trainset = CIFAR10(root='./data', train=True, download=True, transform=transforms.ToTensor())\n",
        "\n",
        "train, unlabeled = torch.utils.data.random_split(trainset, [500, 49500])\n",
        "\n",
        "testset = CIFAR10(root='./data', train=False, download=True, transform=transforms.ToTensor())"
      ],
      "execution_count": null,
      "outputs": [
        {
          "output_type": "stream",
          "text": [
            "Downloading https://www.cs.toronto.edu/~kriz/cifar-10-python.tar.gz to ./data/cifar-10-python.tar.gz\n"
          ],
          "name": "stdout"
        },
        {
          "output_type": "display_data",
          "data": {
            "application/vnd.jupyter.widget-view+json": {
              "model_id": "d952d538daaa4bd98ac6d2eed5ba01ab",
              "version_minor": 0,
              "version_major": 2
            },
            "text/plain": [
              "HBox(children=(FloatProgress(value=1.0, bar_style='info', max=1.0), HTML(value='')))"
            ]
          },
          "metadata": {
            "tags": []
          }
        },
        {
          "output_type": "stream",
          "text": [
            "Extracting ./data/cifar-10-python.tar.gz to ./data\n",
            "Files already downloaded and verified\n"
          ],
          "name": "stdout"
        }
      ]
    },
    {
      "cell_type": "code",
      "metadata": {
        "id": "gX08CljXSsGG"
      },
      "source": [
        "def apply_transforms(data, transform):\n",
        "  \n",
        "    X = []\n",
        "    y = []\n",
        "\n",
        "    for image, label in data:\n",
        "        image = transform(image)\n",
        "        X.append(image)\n",
        "        y.append(label)\n",
        "  \n",
        "    return torch.stack(X), torch.tensor(y)"
      ],
      "execution_count": null,
      "outputs": []
    },
    {
      "cell_type": "code",
      "metadata": {
        "id": "FONA1NAF1DS1"
      },
      "source": [
        "class Dataset(torch.utils.data.Dataset):\n",
        "    \"\"\"\n",
        "    Custom class to apply transforms\n",
        "    \"\"\"\n",
        "    def __init__(self, images, labels):\n",
        "        self.images = images\n",
        "        self.labels = labels\n",
        "\n",
        "    def __getitem__(self, idx):\n",
        "        # Generates one sample of data\n",
        "        image, label = self.images[idx], self.labels[idx]\n",
        "\n",
        "        return image, label\n",
        "\n",
        "    def __len__(self):\n",
        "        return len(self.images)"
      ],
      "execution_count": null,
      "outputs": []
    },
    {
      "cell_type": "code",
      "metadata": {
        "id": "aeIR24V3AEdF"
      },
      "source": [
        "class ConvNet(nn.Module):\n",
        "    def __init__(self):\n",
        "        super(ConvNet, self).__init__()\n",
        "        \n",
        "        self.conv1 = nn.Sequential(nn.Conv2d(in_channels = 3, out_channels = 10, kernel_size = (5, 5), stride = 1),\n",
        "                                   nn.ReLU(),\n",
        "                                   nn.MaxPool2d(kernel_size = (2, 2), stride = 2))\n",
        "        \n",
        "        self.conv2 = nn.Sequential(nn.Conv2d(in_channels = 10, out_channels = 10, kernel_size = (5, 5), stride = 1),\n",
        "                                   nn.ReLU(),\n",
        "                                   nn.MaxPool2d(kernel_size = (2, 2), stride = 2))\n",
        "                \n",
        "        self.fc1 = nn.Linear(in_features = 5 * 5 * 10, out_features = 20)\n",
        "\n",
        "        self.fc2 = nn.Linear(in_features = 20, out_features = 3)\n",
        "        \n",
        "    def forward(self, x):\n",
        "        x = self.conv1(x)\n",
        "        x = self.conv2(x)\n",
        "        x = x.view(x.size(0), -1)\n",
        "        x = F.relu(self.fc1(x))\n",
        "        x = F.log_softmax(self.fc2(x), dim=1)\n",
        "        \n",
        "        return x\n",
        "  \n",
        "def init_kaiming(m):\n",
        "    if type(m) == nn.Linear:\n",
        "        nn.init.kaiming_normal_(m.weight)\n",
        "        m.bias.data.fill_(0.01)"
      ],
      "execution_count": null,
      "outputs": []
    },
    {
      "cell_type": "markdown",
      "metadata": {
        "id": "t4WmQmaTmGML"
      },
      "source": [
        "**Pretext**"
      ]
    },
    {
      "cell_type": "code",
      "metadata": {
        "id": "fLwvZMS-mK4q"
      },
      "source": [
        "# Class 0: normalize\n",
        "X_class_0, _ = apply_transforms(data = unlabeled, transform = transforms.Normalize((0.5, 0.5, 0.5), (0.5, 0.5, 0.5)))\n",
        "Y_class_0 = torch.tensor([0] * len(X_class_0))\n",
        "\n",
        "# Class 1: flip all images upside down\n",
        "X_class_1, _ = apply_transforms(data = unlabeled, transform = transforms.Compose([transforms.RandomVerticalFlip(p=1.0),\n",
        "                                                                                transforms.Normalize((0.5, 0.5, 0.5), (0.5, 0.5, 0.5))]))\n",
        "Y_class_1 = torch.tensor([1] * len(X_class_1))\n",
        "\n",
        "# Class 2: rotate images 90 degree counter-clockwise\n",
        "X_class_2, _ = apply_transforms(data = unlabeled, transform = transforms.Compose([transforms.ToPILImage(),\n",
        "                                                                                  transforms.RandomRotation(degrees=(90, 90)),\n",
        "                                                                                  transforms.ToTensor(),\n",
        "                                                                                  transforms.Normalize((0.5, 0.5, 0.5), (0.5, 0.5, 0.5))]))\n",
        "Y_class_2 = torch.tensor([2] * len(X_class_2))"
      ],
      "execution_count": null,
      "outputs": []
    },
    {
      "cell_type": "code",
      "metadata": {
        "id": "c-ilorFR1u2q",
        "colab": {
          "base_uri": "https://localhost:8080/",
          "height": 443
        },
        "outputId": "aebe26c1-0e8b-4cd8-8002-050a7e95c911"
      },
      "source": [
        "def imshow(img):\n",
        "    img = img / 2 + 0.5     # unnormalize\n",
        "    img = img.numpy()\n",
        "    plt.figure(figsize = (2,2))\n",
        "    plt.imshow(np.transpose(img, (1, 2, 0)))\n",
        "    plt.show();\n",
        "\n",
        "# visualize random training images\n",
        "idx = np.random.randint(0, 49500)\n",
        "for dataset in [X_class_0, X_class_1, X_class_2]:\n",
        "    imshow(make_grid(dataset[idx]))"
      ],
      "execution_count": null,
      "outputs": [
        {
          "output_type": "display_data",
          "data": {
            "image/png": "[encoded data removed]",
            "text/plain": [
              "<Figure size 144x144 with 1 Axes>"
            ]
          },
          "metadata": {
            "tags": [],
            "needs_background": "light"
          }
        },
        {
          "output_type": "display_data",
          "data": {
            "image/png": "[encoded data removed]",
            "text/plain": [
              "<Figure size 144x144 with 1 Axes>"
            ]
          },
          "metadata": {
            "tags": [],
            "needs_background": "light"
          }
        },
        {
          "output_type": "display_data",
          "data": {
            "image/png": "[encoded data removed]",
            "text/plain": [
              "<Figure size 144x144 with 1 Axes>"
            ]
          },
          "metadata": {
            "tags": [],
            "needs_background": "light"
          }
        }
      ]
    },
    {
      "cell_type": "code",
      "metadata": {
        "id": "7-kgZa5l4vCO"
      },
      "source": [
        "X_train = torch.cat([X_class_0, X_class_1, X_class_2], 0)\n",
        "Y_train = torch.cat([Y_class_0, Y_class_1, Y_class_2], 0)\n",
        "\n",
        "train_set = Dataset(X_train, Y_train)\n",
        "train_loader = DataLoader(train_set, batch_size=500, shuffle = True)"
      ],
      "execution_count": null,
      "outputs": []
    },
    {
      "cell_type": "code",
      "metadata": {
        "id": "-no2nE1A6_nx"
      },
      "source": [
        "## Training loop \n",
        "\n",
        "# Initilize NN class\n",
        "NN = ConvNet()\n",
        "NN.apply(init_kaiming)\n",
        "\n",
        "# Transfer to GPU\n",
        "NN.to(device)\n",
        "\n",
        "# hyperparameters\n",
        "loss_fn = nn.CrossEntropyLoss()\n",
        "optimizer = optim.Adam(NN.parameters(), lr=0.001)\n",
        "n_epochs = 100\n",
        "\n",
        "for epoch in range(n_epochs):\n",
        "    \n",
        "    # Train\n",
        "    NN.train()\n",
        "    for images, labels in train_loader:        \n",
        "        X_train, Y_train = images.to(device), labels.to(device)               # Transfer to GPU\n",
        "        optimizer.zero_grad()                                                 # Set the parameter gradients to zero\n",
        "        output = NN(X_train)                                                  # Forward pass\n",
        "        loss = loss_fn(output, Y_train)                                       # Compute loss\n",
        "        loss.backward()                                                       # Backpropagation\n",
        "        optimizer.step()                                                      # Optimization\n",
        "\n",
        "# Save model weights\n",
        "torch.save(NN.state_dict(), 'NN_pretext.h5')"
      ],
      "execution_count": null,
      "outputs": []
    },
    {
      "cell_type": "markdown",
      "metadata": {
        "id": "07yUIYEMmCP7"
      },
      "source": [
        "**Baseline**"
      ]
    },
    {
      "cell_type": "code",
      "metadata": {
        "id": "XhlGpV_dVwRJ"
      },
      "source": [
        "X_train, Y_train = apply_transforms(data = train, transform = transforms.Normalize((0.5, 0.5, 0.5), (0.5, 0.5, 0.5)))\n",
        "train_set = Dataset(X_train, Y_train)\n",
        "train_loader = DataLoader(train_set, batch_size=500, shuffle = True)\n",
        "\n",
        "X_test, Y_test = apply_transforms(data = testset, transform = transforms.Normalize((0.5, 0.5, 0.5), (0.5, 0.5, 0.5)))\n",
        "test_set = Dataset(X_test, Y_test)\n",
        "test_loader = DataLoader(test_set, batch_size=500, shuffle = True)"
      ],
      "execution_count": null,
      "outputs": []
    },
    {
      "cell_type": "code",
      "metadata": {
        "id": "yKZjqJsnWk31"
      },
      "source": [
        "class ConvNet(nn.Module):\n",
        "    def __init__(self):\n",
        "        super(ConvNet, self).__init__()\n",
        "        \n",
        "        self.conv1 = nn.Sequential(nn.Conv2d(in_channels = 3, out_channels = 10, kernel_size = (5, 5), stride = 1),\n",
        "                                   nn.ReLU(),\n",
        "                                   nn.MaxPool2d(kernel_size = (2, 2), stride = 2))\n",
        "        \n",
        "        self.conv2 = nn.Sequential(nn.Conv2d(in_channels = 10, out_channels = 10, kernel_size = (5, 5), stride = 1),\n",
        "                                   nn.ReLU(),\n",
        "                                   nn.MaxPool2d(kernel_size = (2, 2), stride = 2))\n",
        "                \n",
        "        self.fc1 = nn.Linear(in_features = 5 * 5 * 10, out_features = 20)\n",
        "\n",
        "        self.fc2 = nn.Linear(in_features = 20, out_features = 10)\n",
        "        \n",
        "    def forward(self, x):\n",
        "        x = self.conv1(x)\n",
        "        x = self.conv2(x)\n",
        "        x = x.view(x.size(0), -1)\n",
        "        x = F.relu(self.fc1(x))\n",
        "        x = F.log_softmax(self.fc2(x), dim=1)\n",
        "        \n",
        "        return x\n",
        "  \n",
        "def init_kaiming(m):\n",
        "    if type(m) == nn.Linear:\n",
        "        nn.init.kaiming_normal_(m.weight)\n",
        "        m.bias.data.fill_(0.01)"
      ],
      "execution_count": null,
      "outputs": []
    },
    {
      "cell_type": "code",
      "metadata": {
        "id": "mLR6oFY9oMGA",
        "colab": {
          "base_uri": "https://localhost:8080/",
          "height": 1000
        },
        "outputId": "65873294-1186-487f-cc4e-508c225efd61"
      },
      "source": [
        "## Training loop \n",
        "\n",
        "# Initilize NN class\n",
        "NN = ConvNet()\n",
        "NN.apply(init_kaiming)\n",
        "\n",
        "# Transfer to GPU\n",
        "NN.to(device)\n",
        "\n",
        "# hyperparameters\n",
        "loss_fn = nn.CrossEntropyLoss()\n",
        "optimizer = optim.Adam(NN.parameters(), lr=0.001)\n",
        "n_epochs = 10000\n",
        "\n",
        "test_accuracy = []\n",
        "\n",
        "for epoch in range(n_epochs):\n",
        "    \n",
        "    # Train\n",
        "    NN.train()\n",
        "    for images, labels in train_loader:        \n",
        "        X_train, Y_train = images.to(device), labels.to(device)               # Transfer to GPU\n",
        "        optimizer.zero_grad()                                                 # Set the parameter gradients to zero\n",
        "        output = NN(X_train)                                                  # Forward pass\n",
        "        loss = loss_fn(output, Y_train)                                       # Compute loss\n",
        "        loss.backward()                                                       # Backpropagation\n",
        "        optimizer.step()                                                      # Optimization\n",
        "        \n",
        "    # Test\n",
        "    NN.eval()\n",
        "    with torch.no_grad():\n",
        "      accuracy = 0\n",
        "      for images, labels in test_loader:\n",
        "        X_test, Y_test = images.to(device), labels.to(device)                 # Transfer to GPU\n",
        "        prediction = NN(X_test)                                               # Predict\n",
        "        Y_pred = torch.argmax(prediction, dim=1)                              # For each prediction, find the dim with the maximum probability\n",
        "        accuracy_ = 100 * (sum(Y_pred == Y_test).item() / len(Y_test))        # Compute accuracy\n",
        "        accuracy += accuracy_\n",
        "\n",
        "    # Keep track of validation accuracy for each epoch\n",
        "    test_accuracy.append(accuracy/len(test_loader))\n",
        "\n",
        "    if (epoch+1) % 100 == 0:\n",
        "        print(\"Epoch {} | test accuracy: {:.2f}%\".format(epoch+1, test_accuracy[-1]))"
      ],
      "execution_count": null,
      "outputs": [
        {
          "output_type": "stream",
          "text": [
            "Epoch 100 | test accuracy: 31.83%\n",
            "Epoch 200 | test accuracy: 31.04%\n",
            "Epoch 300 | test accuracy: 30.84%\n",
            "Epoch 400 | test accuracy: 30.85%\n",
            "Epoch 500 | test accuracy: 30.84%\n",
            "Epoch 600 | test accuracy: 30.78%\n",
            "Epoch 700 | test accuracy: 30.73%\n",
            "Epoch 800 | test accuracy: 30.72%\n",
            "Epoch 900 | test accuracy: 30.73%\n",
            "Epoch 1000 | test accuracy: 30.69%\n",
            "Epoch 1100 | test accuracy: 30.70%\n",
            "Epoch 1200 | test accuracy: 30.65%\n",
            "Epoch 1300 | test accuracy: 30.59%\n",
            "Epoch 1400 | test accuracy: 30.59%\n",
            "Epoch 1500 | test accuracy: 30.60%\n",
            "Epoch 1600 | test accuracy: 30.61%\n",
            "Epoch 1700 | test accuracy: 30.64%\n",
            "Epoch 1800 | test accuracy: 30.61%\n",
            "Epoch 1900 | test accuracy: 30.60%\n",
            "Epoch 2000 | test accuracy: 30.60%\n",
            "Epoch 2100 | test accuracy: 30.57%\n",
            "Epoch 2200 | test accuracy: 30.59%\n",
            "Epoch 2300 | test accuracy: 30.59%\n",
            "Epoch 2400 | test accuracy: 30.57%\n",
            "Epoch 2500 | test accuracy: 30.56%\n",
            "Epoch 2600 | test accuracy: 30.54%\n",
            "Epoch 2700 | test accuracy: 30.54%\n",
            "Epoch 2800 | test accuracy: 30.58%\n",
            "Epoch 2900 | test accuracy: 30.57%\n",
            "Epoch 3000 | test accuracy: 30.54%\n",
            "Epoch 3100 | test accuracy: 30.53%\n",
            "Epoch 3200 | test accuracy: 30.53%\n",
            "Epoch 3300 | test accuracy: 30.53%\n",
            "Epoch 3400 | test accuracy: 30.54%\n",
            "Epoch 3500 | test accuracy: 30.54%\n",
            "Epoch 3600 | test accuracy: 30.55%\n",
            "Epoch 3700 | test accuracy: 30.52%\n",
            "Epoch 3800 | test accuracy: 30.52%\n",
            "Epoch 3900 | test accuracy: 30.51%\n",
            "Epoch 4000 | test accuracy: 30.49%\n",
            "Epoch 4100 | test accuracy: 30.48%\n",
            "Epoch 4200 | test accuracy: 30.50%\n",
            "Epoch 4300 | test accuracy: 30.49%\n",
            "Epoch 4400 | test accuracy: 30.49%\n",
            "Epoch 4500 | test accuracy: 30.51%\n",
            "Epoch 4600 | test accuracy: 30.53%\n",
            "Epoch 4700 | test accuracy: 30.53%\n",
            "Epoch 4800 | test accuracy: 30.52%\n",
            "Epoch 4900 | test accuracy: 30.51%\n",
            "Epoch 5000 | test accuracy: 30.51%\n",
            "Epoch 5100 | test accuracy: 30.51%\n",
            "Epoch 5200 | test accuracy: 30.50%\n",
            "Epoch 5300 | test accuracy: 30.47%\n",
            "Epoch 5400 | test accuracy: 30.48%\n",
            "Epoch 5500 | test accuracy: 30.49%\n",
            "Epoch 5600 | test accuracy: 30.50%\n",
            "Epoch 5700 | test accuracy: 30.49%\n",
            "Epoch 5800 | test accuracy: 30.49%\n",
            "Epoch 5900 | test accuracy: 30.49%\n",
            "Epoch 6000 | test accuracy: 30.49%\n",
            "Epoch 6100 | test accuracy: 30.45%\n",
            "Epoch 6200 | test accuracy: 30.43%\n",
            "Epoch 6300 | test accuracy: 30.42%\n",
            "Epoch 6400 | test accuracy: 30.41%\n",
            "Epoch 6500 | test accuracy: 30.41%\n",
            "Epoch 6600 | test accuracy: 30.42%\n",
            "Epoch 6700 | test accuracy: 30.42%\n",
            "Epoch 6800 | test accuracy: 30.40%\n",
            "Epoch 6900 | test accuracy: 30.39%\n",
            "Epoch 7000 | test accuracy: 30.39%\n",
            "Epoch 7100 | test accuracy: 30.40%\n",
            "Epoch 7200 | test accuracy: 30.38%\n",
            "Epoch 7300 | test accuracy: 30.39%\n",
            "Epoch 7400 | test accuracy: 30.39%\n",
            "Epoch 7500 | test accuracy: 30.39%\n",
            "Epoch 7600 | test accuracy: 30.39%\n",
            "Epoch 7700 | test accuracy: 30.38%\n",
            "Epoch 7800 | test accuracy: 30.38%\n",
            "Epoch 7900 | test accuracy: 30.37%\n",
            "Epoch 8000 | test accuracy: 30.37%\n",
            "Epoch 8100 | test accuracy: 30.37%\n",
            "Epoch 8200 | test accuracy: 30.37%\n",
            "Epoch 8300 | test accuracy: 30.37%\n",
            "Epoch 8400 | test accuracy: 30.38%\n",
            "Epoch 8500 | test accuracy: 30.39%\n",
            "Epoch 8600 | test accuracy: 30.38%\n",
            "Epoch 8700 | test accuracy: 30.37%\n",
            "Epoch 8800 | test accuracy: 30.37%\n",
            "Epoch 8900 | test accuracy: 30.38%\n",
            "Epoch 9000 | test accuracy: 30.39%\n",
            "Epoch 9100 | test accuracy: 30.40%\n",
            "Epoch 9200 | test accuracy: 30.41%\n",
            "Epoch 9300 | test accuracy: 30.41%\n",
            "Epoch 9400 | test accuracy: 30.42%\n",
            "Epoch 9500 | test accuracy: 30.41%\n",
            "Epoch 9600 | test accuracy: 30.39%\n",
            "Epoch 9700 | test accuracy: 30.38%\n",
            "Epoch 9800 | test accuracy: 30.37%\n",
            "Epoch 9900 | test accuracy: 30.38%\n",
            "Epoch 10000 | test accuracy: 30.37%\n"
          ],
          "name": "stdout"
        }
      ]
    },
    {
      "cell_type": "markdown",
      "metadata": {
        "id": "HjqODpATlp5s"
      },
      "source": [
        "**Transfer learning**"
      ]
    },
    {
      "cell_type": "code",
      "metadata": {
        "id": "DVyY6MQOYdcy"
      },
      "source": [
        "# Load model weights from pretext model\n",
        "NN_pretext_weights = torch.load('NN_pretext.h5')\n",
        "\n",
        "# Remove model weights for the last layer\n",
        "del NN_pretext_weights['fc2.weight']\n",
        "del NN_pretext_weights['fc2.bias']"
      ],
      "execution_count": null,
      "outputs": []
    },
    {
      "cell_type": "code",
      "metadata": {
        "id": "V5sL0dtumku9",
        "colab": {
          "base_uri": "https://localhost:8080/",
          "height": 1000
        },
        "outputId": "1f83e45c-fb89-4a8a-8422-bb5a7829bd32"
      },
      "source": [
        "## Training loop \n",
        "\n",
        "# Initilize NN class\n",
        "NN = ConvNet()\n",
        "NN.load_state_dict(NN_pretext_weights, strict=False)                            # Warmstart model with pretext model weights\n",
        "NN.fc2.apply(init_kaiming)                                                      # Initialize last layer weights with Kaiming He initialization \n",
        "\n",
        "# Transfer to GPU\n",
        "NN.to(device)\n",
        "\n",
        "# hyperparameters\n",
        "loss_fn = nn.CrossEntropyLoss()\n",
        "optimizer = optim.Adam([{\"params\": NN.conv1.parameters(), \"lr\": 1e-5},\n",
        "                        {\"params\": NN.conv2.parameters(), \"lr\": 1e-5},\n",
        "                        {\"params\": NN.fc1.parameters(), \"lr\": 1e-5},\n",
        "                        {\"params\": NN.fc2.parameters(), \"lr\": 1e-3}])\n",
        "\n",
        "n_epochs = 10000\n",
        "\n",
        "tl_test_accuracy = []\n",
        "\n",
        "for epoch in range(n_epochs):\n",
        "    \n",
        "    # Train\n",
        "    NN.train()\n",
        "    for images, labels in train_loader:        \n",
        "        X_train, Y_train = images.to(device), labels.to(device)                 # Transfer to GPU\n",
        "        optimizer.zero_grad()                                                   # Set the parameter gradients to zero\n",
        "        output = NN(X_train)                                                    # Forward pass\n",
        "        loss = loss_fn(output, Y_train)                                         # Compute loss\n",
        "        loss.backward()                                                         # Backpropagation\n",
        "        optimizer.step()                                                        # Optimization\n",
        "        \n",
        "    # Test\n",
        "    NN.eval()\n",
        "    with torch.no_grad():\n",
        "      accuracy = 0\n",
        "      for images, labels in test_loader:\n",
        "        X_test, Y_test = images.to(device), labels.to(device)                   # Transfer to GPU\n",
        "        prediction = NN(X_test)                                                 # Predict\n",
        "        Y_pred = torch.argmax(prediction, dim=1)                                # For each prediction, find the dim with the maximum probability\n",
        "        accuracy_ = 100 * (sum(Y_pred == Y_test).item() / len(Y_test))          # Compute accuracy\n",
        "        accuracy += accuracy_\n",
        "\n",
        "    # Keep track of validation accuracy for each epoch\n",
        "    tl_test_accuracy.append(accuracy/len(test_loader))\n",
        "\n",
        "    if (epoch+1) % 100 == 0:\n",
        "        print(\"Epoch {} | test accuracy: {:.2f}%\".format(epoch+1, tl_test_accuracy[-1]))"
      ],
      "execution_count": null,
      "outputs": [
        {
          "output_type": "stream",
          "text": [
            "Epoch 100 | test accuracy: 12.46%\n",
            "Epoch 200 | test accuracy: 17.95%\n",
            "Epoch 300 | test accuracy: 22.02%\n",
            "Epoch 400 | test accuracy: 26.28%\n",
            "Epoch 500 | test accuracy: 28.66%\n",
            "Epoch 600 | test accuracy: 29.98%\n",
            "Epoch 700 | test accuracy: 30.93%\n",
            "Epoch 800 | test accuracy: 31.85%\n",
            "Epoch 900 | test accuracy: 32.22%\n",
            "Epoch 1000 | test accuracy: 32.84%\n",
            "Epoch 1100 | test accuracy: 33.29%\n",
            "Epoch 1200 | test accuracy: 33.41%\n",
            "Epoch 1300 | test accuracy: 33.57%\n",
            "Epoch 1400 | test accuracy: 33.50%\n",
            "Epoch 1500 | test accuracy: 33.61%\n",
            "Epoch 1600 | test accuracy: 33.77%\n",
            "Epoch 1700 | test accuracy: 33.80%\n",
            "Epoch 1800 | test accuracy: 33.89%\n",
            "Epoch 1900 | test accuracy: 33.90%\n",
            "Epoch 2000 | test accuracy: 34.05%\n",
            "Epoch 2100 | test accuracy: 34.09%\n",
            "Epoch 2200 | test accuracy: 34.27%\n",
            "Epoch 2300 | test accuracy: 34.36%\n",
            "Epoch 2400 | test accuracy: 34.29%\n",
            "Epoch 2500 | test accuracy: 34.43%\n",
            "Epoch 2600 | test accuracy: 34.67%\n",
            "Epoch 2700 | test accuracy: 34.63%\n",
            "Epoch 2800 | test accuracy: 34.59%\n",
            "Epoch 2900 | test accuracy: 34.58%\n",
            "Epoch 3000 | test accuracy: 34.42%\n",
            "Epoch 3100 | test accuracy: 34.42%\n",
            "Epoch 3200 | test accuracy: 34.34%\n",
            "Epoch 3300 | test accuracy: 34.24%\n",
            "Epoch 3400 | test accuracy: 34.11%\n",
            "Epoch 3500 | test accuracy: 34.10%\n",
            "Epoch 3600 | test accuracy: 33.82%\n",
            "Epoch 3700 | test accuracy: 33.77%\n",
            "Epoch 3800 | test accuracy: 33.71%\n",
            "Epoch 3900 | test accuracy: 33.68%\n",
            "Epoch 4000 | test accuracy: 33.63%\n",
            "Epoch 4100 | test accuracy: 33.73%\n",
            "Epoch 4200 | test accuracy: 33.60%\n",
            "Epoch 4300 | test accuracy: 33.66%\n",
            "Epoch 4400 | test accuracy: 33.58%\n",
            "Epoch 4500 | test accuracy: 33.41%\n",
            "Epoch 4600 | test accuracy: 33.35%\n",
            "Epoch 4700 | test accuracy: 33.35%\n",
            "Epoch 4800 | test accuracy: 33.29%\n",
            "Epoch 4900 | test accuracy: 33.26%\n",
            "Epoch 5000 | test accuracy: 33.36%\n",
            "Epoch 5100 | test accuracy: 33.44%\n",
            "Epoch 5200 | test accuracy: 33.48%\n",
            "Epoch 5300 | test accuracy: 33.41%\n",
            "Epoch 5400 | test accuracy: 33.27%\n",
            "Epoch 5500 | test accuracy: 33.25%\n",
            "Epoch 5600 | test accuracy: 33.10%\n",
            "Epoch 5700 | test accuracy: 33.02%\n",
            "Epoch 5800 | test accuracy: 33.08%\n",
            "Epoch 5900 | test accuracy: 33.00%\n",
            "Epoch 6000 | test accuracy: 33.05%\n",
            "Epoch 6100 | test accuracy: 33.00%\n",
            "Epoch 6200 | test accuracy: 33.05%\n",
            "Epoch 6300 | test accuracy: 32.98%\n",
            "Epoch 6400 | test accuracy: 32.92%\n",
            "Epoch 6500 | test accuracy: 32.96%\n",
            "Epoch 6600 | test accuracy: 32.90%\n",
            "Epoch 6700 | test accuracy: 33.04%\n",
            "Epoch 6800 | test accuracy: 33.01%\n",
            "Epoch 6900 | test accuracy: 33.06%\n",
            "Epoch 7000 | test accuracy: 33.07%\n",
            "Epoch 7100 | test accuracy: 33.13%\n",
            "Epoch 7200 | test accuracy: 33.15%\n",
            "Epoch 7300 | test accuracy: 33.11%\n",
            "Epoch 7400 | test accuracy: 33.16%\n",
            "Epoch 7500 | test accuracy: 33.13%\n",
            "Epoch 7600 | test accuracy: 33.18%\n",
            "Epoch 7700 | test accuracy: 33.22%\n",
            "Epoch 7800 | test accuracy: 33.32%\n",
            "Epoch 7900 | test accuracy: 33.30%\n",
            "Epoch 8000 | test accuracy: 33.28%\n",
            "Epoch 8100 | test accuracy: 33.31%\n",
            "Epoch 8200 | test accuracy: 33.33%\n",
            "Epoch 8300 | test accuracy: 33.25%\n",
            "Epoch 8400 | test accuracy: 33.22%\n",
            "Epoch 8500 | test accuracy: 33.27%\n",
            "Epoch 8600 | test accuracy: 33.30%\n",
            "Epoch 8700 | test accuracy: 33.26%\n",
            "Epoch 8800 | test accuracy: 33.28%\n",
            "Epoch 8900 | test accuracy: 33.29%\n",
            "Epoch 9000 | test accuracy: 33.21%\n",
            "Epoch 9100 | test accuracy: 33.23%\n",
            "Epoch 9200 | test accuracy: 33.20%\n",
            "Epoch 9300 | test accuracy: 33.19%\n",
            "Epoch 9400 | test accuracy: 33.22%\n",
            "Epoch 9500 | test accuracy: 33.28%\n",
            "Epoch 9600 | test accuracy: 33.25%\n",
            "Epoch 9700 | test accuracy: 33.25%\n",
            "Epoch 9800 | test accuracy: 33.29%\n",
            "Epoch 9900 | test accuracy: 33.28%\n",
            "Epoch 10000 | test accuracy: 33.29%\n"
          ],
          "name": "stdout"
        }
      ]
    },
    {
      "cell_type": "code",
      "metadata": {
        "id": "aYRVI8Hto2iZ",
        "colab": {
          "base_uri": "https://localhost:8080/",
          "height": 625
        },
        "outputId": "c49f1ff2-61bb-46e5-d224-5eaee5777972"
      },
      "source": [
        "sns.set_context('poster')\n",
        "plt.style.use('seaborn-whitegrid')\n",
        "\n",
        "plt.figure(figsize = (20,10))\n",
        "plt.plot(test_accuracy, label = 'Baseline')\n",
        "plt.plot(tl_test_accuracy, label = 'Transfer learning')\n",
        "plt.ylabel('Validation Accuracy')\n",
        "plt.xlabel('Epochs')\n",
        "plt.legend(loc='lower right');"
      ],
      "execution_count": null,
      "outputs": [
        {
          "output_type": "display_data",
          "data": {
            "image/png": "[encoded data removed]",
            "text/plain": [
              "<Figure size 1440x720 with 1 Axes>"
            ]
          },
          "metadata": {
            "tags": []
          }
        }
      ]
    },
    {
      "cell_type": "markdown",
      "metadata": {
        "id": "Z813N1jRqDo4"
      },
      "source": [
        "We can see from the plot of validation accuracies of both models that transfer leaarning does indeed increase the validation performance."
      ]
    }
  ]
}